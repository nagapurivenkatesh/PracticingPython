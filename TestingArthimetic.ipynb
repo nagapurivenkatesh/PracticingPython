{
  "nbformat": 4,
  "nbformat_minor": 0,
  "metadata": {
    "colab": {
      "provenance": [],
      "authorship_tag": "ABX9TyNxxKBQVmFRRLP22SQsaFdU",
      "include_colab_link": true
    },
    "kernelspec": {
      "name": "python3",
      "display_name": "Python 3"
    },
    "language_info": {
      "name": "python"
    }
  },
  "cells": [
    {
      "cell_type": "markdown",
      "metadata": {
        "id": "view-in-github",
        "colab_type": "text"
      },
      "source": [
        "<a href=\"https://colab.research.google.com/github/nagapurivenkatesh/PracticingPython/blob/main/TestingArthimetic.ipynb\" target=\"_parent\"><img src=\"https://colab.research.google.com/assets/colab-badge.svg\" alt=\"Open In Colab\"/></a>"
      ]
    },
    {
      "cell_type": "code",
      "execution_count": 8,
      "metadata": {
        "colab": {
          "base_uri": "https://localhost:8080/"
        },
        "id": "67DFRLZ1YfU1",
        "outputId": "b7136aed-d8fb-4e39-fc89-1efdec51e608"
      },
      "outputs": [
        {
          "output_type": "stream",
          "name": "stdout",
          "text": [
            "Enter a number:10\n",
            "The sum of numbers from 1 to 10 is 55\n"
          ]
        }
      ],
      "source": [
        "# prompt: take a number as input and add all numbers till the input number and provide the sum as output\n",
        "\n",
        "x=int(input(\"Enter a number:\"))\n",
        "sum=0\n",
        "for i in range(1,x+1):\n",
        "  sum=sum+i\n",
        "print(\"The sum of numbers from 1 to\",x,\"is\",sum)\n"
      ]
    }
  ]
}